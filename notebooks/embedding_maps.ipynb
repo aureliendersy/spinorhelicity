{
 "cells": [
  {
   "cell_type": "markdown",
   "id": "acae80a1",
   "metadata": {},
   "source": [
    "# Study the different embeddings of the trained transformer"
   ]
  },
  {
   "cell_type": "markdown",
   "id": "887cee29",
   "metadata": {},
   "source": [
    "### Start by loading the model "
   ]
  },
  {
   "cell_type": "code",
   "execution_count": 1,
   "id": "59fc0482",
   "metadata": {},
   "outputs": [],
   "source": [
    "# Add the relevant path for the root directory\n",
    "import sys, os\n",
    "sys.path.insert(0, \"/Users/aurelien/PycharmProjects/spinorhelicity/\")"
   ]
  },
  {
   "cell_type": "code",
   "execution_count": 2,
   "id": "176ca539",
   "metadata": {},
   "outputs": [],
   "source": [
    "from environment.utils import AttrDict\n",
    "from environment import build_env\n",
    "from model import build_modules\n",
    "\n",
    "from environment.utils import to_cuda"
   ]
  },
  {
   "cell_type": "code",
   "execution_count": 3,
   "id": "751122eb",
   "metadata": {},
   "outputs": [],
   "source": [
    "# Define the trained model that we want to probed\n",
    "model_path = '../experiments/npt6/checkpoint.pth'\n",
    "assert os.path.isfile(model_path)"
   ]
  },
  {
   "cell_type": "code",
   "execution_count": 4,
   "id": "34e8fbd2",
   "metadata": {},
   "outputs": [],
   "source": [
    "params = params = AttrDict({\n",
    "\n",
    "'exp_name': 'Test_data_spin_hel',\n",
    "        'dump_path': '/Users/aurelien/PycharmProjects/spinorhelicity/experiments/dumped/',\n",
    "        'exp_id': 'test',\n",
    "        'save_periodic': 0,\n",
    "        'tasks': 'spin_hel',\n",
    "\n",
    "        # environment parameters\n",
    "        'env_name': 'char_env',\n",
    "        'max_npt': 6,\n",
    "        'max_scale': 2,\n",
    "        'max_terms': 1,\n",
    "        'max_scrambles': 5,\n",
    "        'save_info_scr': True,\n",
    "        'int_base': 10,\n",
    "        'max_len': 2048,\n",
    "        'canonical_form': True,\n",
    "        'bracket_tokens': True,\n",
    "        'generator_id': 2,\n",
    "        'l_scale': 0.75,\n",
    "        'numerical_check': False,\n",
    "\n",
    "        # model parameters\n",
    "        'emb_dim': 512,\n",
    "        'n_enc_layers': 3,\n",
    "        'n_dec_layers': 3,\n",
    "        'n_heads': 8,\n",
    "        'dropout': 0,\n",
    "        'attention_dropout': 0,\n",
    "        'sinusoidal_embeddings': False,\n",
    "        'share_inout_emb': True,\n",
    "        'reload_model': model_path,\n",
    "\n",
    "        'amp': -1,\n",
    "        'fp16': False,\n",
    "\n",
    "        # CPU param\n",
    "        'cpu': True,\n",
    "\n",
    "})"
   ]
  },
  {
   "cell_type": "code",
   "execution_count": 5,
   "id": "3f75e398",
   "metadata": {},
   "outputs": [
    {
     "data": {
      "text/plain": [
       "TransformerModel(\n",
       "  (position_embeddings): Embedding(2560, 512)\n",
       "  (embeddings): Embedding(98, 512, padding_idx=1)\n",
       "  (layer_norm_emb): LayerNorm((512,), eps=1e-12, elementwise_affine=True)\n",
       "  (attentions): ModuleList(\n",
       "    (0): MultiHeadAttention(\n",
       "      (q_lin): Linear(in_features=512, out_features=512, bias=True)\n",
       "      (k_lin): Linear(in_features=512, out_features=512, bias=True)\n",
       "      (v_lin): Linear(in_features=512, out_features=512, bias=True)\n",
       "      (out_lin): Linear(in_features=512, out_features=512, bias=True)\n",
       "    )\n",
       "    (1): MultiHeadAttention(\n",
       "      (q_lin): Linear(in_features=512, out_features=512, bias=True)\n",
       "      (k_lin): Linear(in_features=512, out_features=512, bias=True)\n",
       "      (v_lin): Linear(in_features=512, out_features=512, bias=True)\n",
       "      (out_lin): Linear(in_features=512, out_features=512, bias=True)\n",
       "    )\n",
       "    (2): MultiHeadAttention(\n",
       "      (q_lin): Linear(in_features=512, out_features=512, bias=True)\n",
       "      (k_lin): Linear(in_features=512, out_features=512, bias=True)\n",
       "      (v_lin): Linear(in_features=512, out_features=512, bias=True)\n",
       "      (out_lin): Linear(in_features=512, out_features=512, bias=True)\n",
       "    )\n",
       "  )\n",
       "  (layer_norm1): ModuleList(\n",
       "    (0): LayerNorm((512,), eps=1e-12, elementwise_affine=True)\n",
       "    (1): LayerNorm((512,), eps=1e-12, elementwise_affine=True)\n",
       "    (2): LayerNorm((512,), eps=1e-12, elementwise_affine=True)\n",
       "  )\n",
       "  (ffns): ModuleList(\n",
       "    (0): TransformerFFN(\n",
       "      (lin1): Linear(in_features=512, out_features=2048, bias=True)\n",
       "      (lin2): Linear(in_features=2048, out_features=512, bias=True)\n",
       "    )\n",
       "    (1): TransformerFFN(\n",
       "      (lin1): Linear(in_features=512, out_features=2048, bias=True)\n",
       "      (lin2): Linear(in_features=2048, out_features=512, bias=True)\n",
       "    )\n",
       "    (2): TransformerFFN(\n",
       "      (lin1): Linear(in_features=512, out_features=2048, bias=True)\n",
       "      (lin2): Linear(in_features=2048, out_features=512, bias=True)\n",
       "    )\n",
       "  )\n",
       "  (layer_norm2): ModuleList(\n",
       "    (0): LayerNorm((512,), eps=1e-12, elementwise_affine=True)\n",
       "    (1): LayerNorm((512,), eps=1e-12, elementwise_affine=True)\n",
       "    (2): LayerNorm((512,), eps=1e-12, elementwise_affine=True)\n",
       "  )\n",
       "  (layer_norm15): ModuleList(\n",
       "    (0): LayerNorm((512,), eps=1e-12, elementwise_affine=True)\n",
       "    (1): LayerNorm((512,), eps=1e-12, elementwise_affine=True)\n",
       "    (2): LayerNorm((512,), eps=1e-12, elementwise_affine=True)\n",
       "  )\n",
       "  (encoder_attn): ModuleList(\n",
       "    (0): MultiHeadAttention(\n",
       "      (q_lin): Linear(in_features=512, out_features=512, bias=True)\n",
       "      (k_lin): Linear(in_features=512, out_features=512, bias=True)\n",
       "      (v_lin): Linear(in_features=512, out_features=512, bias=True)\n",
       "      (out_lin): Linear(in_features=512, out_features=512, bias=True)\n",
       "    )\n",
       "    (1): MultiHeadAttention(\n",
       "      (q_lin): Linear(in_features=512, out_features=512, bias=True)\n",
       "      (k_lin): Linear(in_features=512, out_features=512, bias=True)\n",
       "      (v_lin): Linear(in_features=512, out_features=512, bias=True)\n",
       "      (out_lin): Linear(in_features=512, out_features=512, bias=True)\n",
       "    )\n",
       "    (2): MultiHeadAttention(\n",
       "      (q_lin): Linear(in_features=512, out_features=512, bias=True)\n",
       "      (k_lin): Linear(in_features=512, out_features=512, bias=True)\n",
       "      (v_lin): Linear(in_features=512, out_features=512, bias=True)\n",
       "      (out_lin): Linear(in_features=512, out_features=512, bias=True)\n",
       "    )\n",
       "  )\n",
       "  (proj): Linear(in_features=512, out_features=98, bias=True)\n",
       ")"
      ]
     },
     "execution_count": 5,
     "metadata": {},
     "output_type": "execute_result"
    }
   ],
   "source": [
    "env = build_env(params)\n",
    "modules = build_modules(env, params)\n",
    "encoder = modules['encoder']\n",
    "decoder = modules['decoder']\n",
    "encoder.eval()\n",
    "decoder.eval()"
   ]
  },
  {
   "cell_type": "code",
   "execution_count": 6,
   "id": "e5af70df",
   "metadata": {},
   "outputs": [
    {
     "data": {
      "text/plain": [
       "Embedding(98, 512, padding_idx=1)"
      ]
     },
     "execution_count": 6,
     "metadata": {},
     "output_type": "execute_result"
    }
   ],
   "source": [
    "import torch\n",
    "import numpy as np\n",
    "\n",
    "encoder.embeddings"
   ]
  },
  {
   "cell_type": "markdown",
   "id": "4739d258",
   "metadata": {},
   "source": [
    "### Look at the embedding of the integers in the model"
   ]
  },
  {
   "cell_type": "code",
   "execution_count": 7,
   "id": "babb2f24",
   "metadata": {},
   "outputs": [],
   "source": [
    "x1 = torch.LongTensor(\n",
    "    [env.word2id[str(w)] for w in range(1,10)] \n",
    ").view(-1, 1).transpose(0, 1)"
   ]
  },
  {
   "cell_type": "code",
   "execution_count": 8,
   "id": "1fe598f1",
   "metadata": {},
   "outputs": [],
   "source": [
    "with torch.no_grad():\n",
    "    tensor_integers = encoder.embeddings(x1)"
   ]
  },
  {
   "cell_type": "markdown",
   "id": "cb5a09e6",
   "metadata": {},
   "source": [
    "##### Start with a simple PCA of the 512 embedding vectors"
   ]
  },
  {
   "cell_type": "code",
   "execution_count": 9,
   "id": "8c10e1d4",
   "metadata": {},
   "outputs": [
    {
     "data": {
      "text/plain": [
       "array([[ 1.3168917 ,  2.3178566 ],\n",
       "       [ 2.3171563 , -0.4951869 ],\n",
       "       [ 0.92069405, -1.0995768 ],\n",
       "       [ 0.30792502, -0.95379543],\n",
       "       [-0.42559987, -0.38996974],\n",
       "       [-0.98341775, -0.30547985],\n",
       "       [-1.1886483 ,  0.21481818],\n",
       "       [-1.1198239 ,  0.18497461],\n",
       "       [-1.1451708 ,  0.5263614 ]], dtype=float32)"
      ]
     },
     "execution_count": 9,
     "metadata": {},
     "output_type": "execute_result"
    }
   ],
   "source": [
    "from sklearn.decomposition import PCA\n",
    "\n",
    "pca = PCA(n_components=2)\n",
    "pca_res2 = pca.fit_transform(tensor_integers.numpy()[0])\n",
    "pca_res2"
   ]
  },
  {
   "cell_type": "code",
   "execution_count": 10,
   "id": "bf52fc7f",
   "metadata": {},
   "outputs": [
    {
     "name": "stdout",
     "output_type": "stream",
     "text": [
      "[0.3220858  0.20390739]\n",
      "[0.3220858  0.52599317]\n"
     ]
    }
   ],
   "source": [
    "print(pca.explained_variance_ratio_)\n",
    "print(pca.explained_variance_ratio_.cumsum())"
   ]
  },
  {
   "cell_type": "code",
   "execution_count": 11,
   "id": "f698f1d5",
   "metadata": {
    "scrolled": true
   },
   "outputs": [
    {
     "data": {
      "image/png": "[encoded data removed]",
      "text/plain": [
       "<Figure size 640x480 with 1 Axes>"
      ]
     },
     "metadata": {},
     "output_type": "display_data"
    }
   ],
   "source": [
    "import matplotlib.pyplot as plt\n",
    "\n",
    "\n",
    "plt.scatter(pca_res2[:,0], pca_res2[:,1])\n",
    "  \n",
    "# Loop for annotation of all points\n",
    "for i in range(len(pca_res2[:,0])):\n",
    "    plt.annotate(str(i+1), (pca_res2[i,0], pca_res2[i,1] + 0.2))\n",
    "\n",
    "plt.xlim((-1.5, 2.5))\n",
    "plt.ylim((-1.5, 3.0))\n",
    "plt.show()\n"
   ]
  },
  {
   "cell_type": "markdown",
   "id": "035ce847",
   "metadata": {},
   "source": [
    "##### Now do a T-distributed Stochastic Neighbor Embedding"
   ]
  },
  {
   "cell_type": "code",
   "execution_count": 12,
   "id": "e1684fb2",
   "metadata": {},
   "outputs": [
    {
     "data": {
      "text/plain": [
       "array([[ 37.824455,  40.471825],\n",
       "       [-65.022995, 151.06595 ],\n",
       "       [-49.518467, 107.87815 ],\n",
       "       [-31.316603,  74.35219 ],\n",
       "       [-14.398226,  21.995825],\n",
       "       [-23.265142, -28.360474],\n",
       "       [-83.52638 , -41.13866 ],\n",
       "       [-52.335194, -67.108444],\n",
       "       [-77.91755 , -94.09438 ]], dtype=float32)"
      ]
     },
     "execution_count": 12,
     "metadata": {},
     "output_type": "execute_result"
    }
   ],
   "source": [
    "from sklearn.manifold import TSNE\n",
    "X_embedded = TSNE(n_components=2, learning_rate='auto', init='random', perplexity=3).fit_transform(tensor_integers.numpy()[0])\n",
    "X_embedded"
   ]
  },
  {
   "cell_type": "code",
   "execution_count": 13,
   "id": "e0bcfb77",
   "metadata": {},
   "outputs": [
    {
     "data": {
      "image/png": "[encoded data removed]",
      "text/plain": [
       "<Figure size 640x480 with 1 Axes>"
      ]
     },
     "metadata": {},
     "output_type": "display_data"
    }
   ],
   "source": [
    "\n",
    "plt.scatter(X_embedded[:,0], X_embedded[:,1])\n",
    "  \n",
    "# Loop for annotation of all points\n",
    "for i in range(len(X_embedded[:,0])):\n",
    "    plt.annotate(str(i+1), (X_embedded[i,0], X_embedded[i,1] + 10))\n",
    "\n",
    "plt.xlim((-10+np.min(X_embedded[:,0]), 10+np.max(X_embedded[:,0])+10))\n",
    "plt.ylim((-10+np.min(X_embedded[:,1]), 10+np.max(X_embedded[:,1])+11))\n",
    "plt.show()"
   ]
  },
  {
   "cell_type": "markdown",
   "id": "062a8037",
   "metadata": {},
   "source": [
    "### Look at the bracket embedding of the model"
   ]
  },
  {
   "cell_type": "markdown",
   "id": "07d9287d",
   "metadata": {},
   "source": [
    "##### Sanity check for the bracket embeddings\n",
    "\n",
    "Since we have used a canonical form throughout, the brackets with decreasing momentum labels should have not been learned"
   ]
  },
  {
   "cell_type": "code",
   "execution_count": 14,
   "id": "a5503e67",
   "metadata": {},
   "outputs": [],
   "source": [
    "xbracketfull = torch.LongTensor(\n",
    "    [env.word2id[str(w)] for w in env.special_tokens] \n",
    ").view(-1, 1).transpose(0, 1)\n",
    "\n",
    "with torch.no_grad():\n",
    "    tensor_bracket_full = encoder.embeddings(xbracketfull)"
   ]
  },
  {
   "cell_type": "code",
   "execution_count": 15,
   "id": "b4902284",
   "metadata": {},
   "outputs": [
    {
     "name": "stdout",
     "output_type": "stream",
     "text": [
      "[0.07910343 0.04699548]\n",
      "[0.07910343 0.12609892]\n"
     ]
    }
   ],
   "source": [
    "pca_bk_full = PCA(n_components=2)\n",
    "pca_res_bk_full = pca_bk_full.fit_transform(tensor_bracket_full.numpy()[0])\n",
    "print(pca_bk_full.explained_variance_ratio_)\n",
    "print(pca_bk_full.explained_variance_ratio_.cumsum())"
   ]
  },
  {
   "cell_type": "code",
   "execution_count": 205,
   "id": "4ce6f723",
   "metadata": {},
   "outputs": [],
   "source": [
    "import seaborn as sns\n",
    "color_points = [0 for i in range(int(len(env.special_tokens)/2))]+[1 for i in range(int(len(env.special_tokens)/2))]\n",
    "my_cmap = ListedColormap(sns.color_palette()[0:2])"
   ]
  },
  {
   "cell_type": "code",
   "execution_count": 207,
   "id": "8f38a9ea",
   "metadata": {},
   "outputs": [
    {
     "data": {
      "image/png": "[encoded data removed]",
      "text/plain": [
       "<Figure size 640x480 with 1 Axes>"
      ]
     },
     "metadata": {},
     "output_type": "display_data"
    }
   ],
   "source": [
    "scatter_plt = plt.scatter(pca_res_bk_full[:,0], pca_res_bk_full[:,1], c=color_points, cmap=my_cmap)\n",
    "  \n",
    "plt.legend(handles=scatter_plt.legend_elements()[0], labels=['Angle brackets', 'Square brackets'])\n",
    "\n",
    "plt.xlim((-1.6, 2))\n",
    "plt.ylim((-1.6, 2))\n",
    "plt.show()"
   ]
  },
  {
   "cell_type": "markdown",
   "id": "bf1dd830",
   "metadata": {},
   "source": [
    "As expected the embeddings that have not been used in training are clustered in their own subspace with no particular structure. The other learned embeddings have some inherent structure, where we can distinguish between the square and angle brackets in particular."
   ]
  },
  {
   "cell_type": "markdown",
   "id": "5f186a12",
   "metadata": {},
   "source": [
    "#####  Bracket embeddings\n",
    "\n",
    "Now retain only the relevant brackets"
   ]
  },
  {
   "cell_type": "code",
   "execution_count": 18,
   "id": "6f5a1e7f",
   "metadata": {},
   "outputs": [],
   "source": [
    "tokens_red = [tok for tok in env.special_tokens if int(tok[-1]) > int(tok[-2])]\n",
    "\n",
    "xbracketred = torch.LongTensor(\n",
    "    [env.word2id[str(w)] for w in tokens_red] \n",
    ").view(-1, 1).transpose(0, 1)\n",
    "\n",
    "with torch.no_grad():\n",
    "    tensor_bracket_red = encoder.embeddings(xbracketred)"
   ]
  },
  {
   "cell_type": "code",
   "execution_count": 19,
   "id": "fec4f720",
   "metadata": {},
   "outputs": [
    {
     "name": "stdout",
     "output_type": "stream",
     "text": [
      "[0.05629425 0.04767282]\n",
      "[0.05629425 0.10396707]\n"
     ]
    }
   ],
   "source": [
    "pca_bk_red = PCA(n_components=2)\n",
    "pca_res_bk_red = pca_bk_red.fit_transform(tensor_bracket_red.numpy()[0])\n",
    "print(pca_bk_red.explained_variance_ratio_)\n",
    "print(pca_bk_red.explained_variance_ratio_.cumsum())"
   ]
  },
  {
   "cell_type": "code",
   "execution_count": 181,
   "id": "7f67550b",
   "metadata": {},
   "outputs": [],
   "source": [
    "color_points_red = [list(sns.color_palette()[0]) for i in range(int(len(tokens_red)/2))]+[list(sns.color_palette()[1]) for i in range(int(len(tokens_red)/2))]"
   ]
  },
  {
   "cell_type": "code",
   "execution_count": 182,
   "id": "34c149fa",
   "metadata": {},
   "outputs": [
    {
     "data": {
      "image/png": "[encoded data removed]",
      "text/plain": [
       "<Figure size 640x480 with 1 Axes>"
      ]
     },
     "metadata": {},
     "output_type": "display_data"
    }
   ],
   "source": [
    "plt.scatter(pca_res_bk_red[:,0], pca_res_bk_red[:,1], c=color_points_red)\n",
    "  \n",
    "# Loop for annotation of all points\n",
    "for i in range(len(pca_res_bk_red[:,0])):\n",
    "    plt.annotate(tokens_red[i], (pca_res_bk_red[i,0], pca_res_bk_red[i,1] + 0.1))\n",
    "\n",
    "plt.xlim((-1.6, 2.2))\n",
    "plt.ylim((-1.6, 2.2))\n",
    "plt.show()"
   ]
  },
  {
   "cell_type": "code",
   "execution_count": 29,
   "id": "4ffaabe4",
   "metadata": {},
   "outputs": [
    {
     "data": {
      "image/png": "[encoded data removed]",
      "text/plain": [
       "<Figure size 640x480 with 1 Axes>"
      ]
     },
     "metadata": {},
     "output_type": "display_data"
    }
   ],
   "source": [
    "X_embedded_bk_red = TSNE(n_components=2, learning_rate='auto', init='random', perplexity=5).fit_transform(tensor_bracket_red.numpy()[0])\n",
    "\n",
    "plt.scatter(X_embedded_bk_red[:,0], X_embedded_bk_red[:,1], c=color_points_red)\n",
    "  \n",
    "# Loop for annotation of all points\n",
    "for i in range(len(X_embedded_bk_red[:,0])):\n",
    "    plt.annotate(tokens_red[i], (X_embedded_bk_red[i,0], X_embedded_bk_red[i,1] + 1))\n",
    "\n",
    "plt.xlim((-10+np.min(X_embedded_bk_red[:,0]), 10+np.max(X_embedded_bk_red[:,0])+10))\n",
    "plt.ylim((-10+np.min(X_embedded_bk_red[:,1]), 10+np.max(X_embedded_bk_red[:,1])+11))\n",
    "plt.show()"
   ]
  },
  {
   "cell_type": "markdown",
   "id": "2665a4eb",
   "metadata": {},
   "source": [
    "We have a clear distinction in the embedding space between the angle brackets and the square brackets\n",
    "In general it seems like brackets with the same first momentum label a clustered near each other. Though it is hard to get a definite conclusion."
   ]
  },
  {
   "cell_type": "markdown",
   "id": "71abbf0b",
   "metadata": {},
   "source": [
    "### Embedding at the equation level now"
   ]
  },
  {
   "cell_type": "markdown",
   "id": "c958778e",
   "metadata": {},
   "source": [
    "##### Define a path to the prefix file and read some equations from it"
   ]
  },
  {
   "cell_type": "code",
   "execution_count": 213,
   "id": "9572eeed",
   "metadata": {},
   "outputs": [],
   "source": [
    "import random\n",
    "random.seed(42)\n",
    "\n",
    "in_path = '../experiments/npt6-infos/data.prefix.counts.valid'\n",
    "load_num = 2500\n",
    "\n",
    "\n",
    "with open(in_path) as infile:\n",
    "    prefix_lists = random.sample([(line.split('\\t')[0].split('|')[1]).split(' ') for line in infile],load_num)"
   ]
  },
  {
   "cell_type": "markdown",
   "id": "587a1e98",
   "metadata": {},
   "source": [
    "##### Recover the different equation embeddings"
   ]
  },
  {
   "cell_type": "code",
   "execution_count": 214,
   "id": "6d8b4e6b",
   "metadata": {},
   "outputs": [],
   "source": [
    "encoded_eq = []\n",
    "mean_encoded_eq = []\n",
    "for prefix in prefix_lists:\n",
    "    x1 = torch.LongTensor([env.eos_index] + [env.word2id[w] for w in prefix] + [env.eos_index]).view(-1, 1)\n",
    "    len1 = torch.LongTensor([len(x1)])\n",
    "    with torch.no_grad():\n",
    "        encoded = encoder('fwd', x=x1, lengths=len1, causal=False)\n",
    "        encoded_eq.append(torch.squeeze(encoded).numpy())\n",
    "        mean_encoded_eq.append(torch.mean(torch.squeeze(encoded),0).numpy())"
   ]
  },
  {
   "cell_type": "markdown",
   "id": "0a72aee6",
   "metadata": {},
   "source": [
    "###### Recover the helicty and n_point properties of the expression"
   ]
  },
  {
   "cell_type": "code",
   "execution_count": null,
   "id": "8bfa6fc1",
   "metadata": {},
   "outputs": [],
   "source": [
    "from environment.utils import convert_sp_forms, get_helicity_expr, get_n_point\n",
    "\n",
    "n_points = [get_n_point(env.infix_to_sympy(env.prefix_to_infix(prefix))) for prefix in prefix_lists]\n",
    "helicities = [get_helicity_expr(convert_sp_forms(env.infix_to_sympy(env.prefix_to_infix(prefix)), env.func_dict), list(env.func_dict.values())) for prefix in prefix_lists]"
   ]
  },
  {
   "cell_type": "markdown",
   "id": "5c76f1f9",
   "metadata": {},
   "source": [
    "##### Plot the PCA version and annotate either helicity or n_point"
   ]
  },
  {
   "cell_type": "code",
   "execution_count": null,
   "id": "af241e21",
   "metadata": {},
   "outputs": [],
   "source": [
    "pca_eqs = PCA(n_components=2)\n",
    "pca_res_eqs = pca_eqs.fit_transform(np.array(mean_encoded_eq))\n",
    "\n",
    "print(pca_eqs.explained_variance_ratio_)\n",
    "print(pca_eqs.explained_variance_ratio_.cumsum())\n",
    "\n",
    "X_embedded_eqs = TSNE(n_components=2, learning_rate='auto', init='random', perplexity=10).fit_transform(np.array(mean_encoded_eq))"
   ]
  },
  {
   "cell_type": "code",
   "execution_count": null,
   "id": "01ffb663",
   "metadata": {},
   "outputs": [],
   "source": [
    "from matplotlib.colors import ListedColormap\n",
    "import colorcet as cc\n",
    "\n",
    "\n",
    "true_max = max([hel for hel in helicities if not isinstance(hel, str)])\n",
    "helicities2 = [true_max+1 if isinstance(hel, str) else hel for hel in helicities]\n",
    "\n",
    "min_h = min(helicities2)\n",
    "color_val =np.array(helicities2)+abs(min_h)\n",
    "hel_list = list(np.unique(np.array(helicities2)))\n",
    "counts_hel = [helicities2.count(un) for un in hel_list]\n",
    "\n",
    "my_cmap = ListedColormap(sns.color_palette(cc.glasbey, n_colors=len(hel_list)))"
   ]
  },
  {
   "cell_type": "code",
   "execution_count": null,
   "id": "1f1f1064",
   "metadata": {
    "scrolled": true
   },
   "outputs": [],
   "source": [
    "num_cutoff = 250\n",
    "mask_hel = [1 if count > num_cutoff else 0 for count in counts_hel]\n",
    "filter_index = [i for i, hel in enumerate(helicities2) if mask_hel[hel_list.index(hel)]==1]\n",
    "hel_filter = [i for i, hel in enumerate(hel_list) if mask_hel[hel_list.index(hel)]==1]\n",
    "\n",
    "hel_list2 = hel_list.copy()\n",
    "hel_list2[-1] = 'N/A' if hel_list[-1] > true_max else hel_list[-1]\n",
    "\n",
    "scatter = plt.scatter(pca_res_eqs[filter_index,0], pca_res_eqs[filter_index,1], c=color_val[filter_index], cmap=my_cmap)\n",
    "plt.legend(handles=scatter.legend_elements()[0], labels=list(np.array(hel_list2)[hel_filter]))\n",
    "plt.show()"
   ]
  },
  {
   "cell_type": "code",
   "execution_count": null,
   "id": "00437ef1",
   "metadata": {},
   "outputs": [],
   "source": [
    "scatter = plt.scatter(X_embedded_eqs[filter_index,0], X_embedded_eqs[filter_index,1], c=color_val[filter_index], cmap=my_cmap)\n",
    "plt.legend(handles=scatter.legend_elements()[0], labels=list(np.array(hel_list2)[hel_filter]))\n",
    "plt.show()"
   ]
  },
  {
   "cell_type": "code",
   "execution_count": null,
   "id": "31ce4101",
   "metadata": {},
   "outputs": [],
   "source": [
    "color_val =np.array(n_points)\n",
    "my_cmap = ListedColormap(sns.color_palette(cc.glasbey, n_colors=len(color_val)))\n",
    "\n",
    "scatter = plt.scatter(pca_res_eqs[:,0], pca_res_eqs[:,1], c=color_val, cmap=my_cmap)\n",
    "plt.legend(handles=scatter.legend_elements()[0], labels=list(np.unique(np.array(n_points))))\n",
    "plt.show()"
   ]
  },
  {
   "cell_type": "code",
   "execution_count": null,
   "id": "00b27ada",
   "metadata": {},
   "outputs": [],
   "source": [
    "scatter = plt.scatter(X_embedded_eqs[:,0], X_embedded_eqs[:,1], c=color_val, cmap=my_cmap)\n",
    "plt.legend(handles=scatter.legend_elements()[0], labels=list(np.unique(np.array(n_points))))\n",
    "plt.show()"
   ]
  },
  {
   "cell_type": "code",
   "execution_count": 209,
   "id": "cb2511f3",
   "metadata": {},
   "outputs": [],
   "source": [
    "from environment.utils import convert_sp_forms\n",
    "pre1 = 'mul pow ab12 INT- 1 mul pow ab13 INT- 1 mul pow ab14 INT- 1 add mul pow ab13 INT+ 3 mul ab14 sb13 add mul pow ab13 INT+ 2 mul ab12 mul ab14 sb12 add mul pow ab24 INT+ 2 mul ab13 mul ab23 sb23 add mul INT- 1 mul pow ab23 INT+ 2 mul ab14 mul ab24 sb23 mul INT- 1 mul ab12 mul ab14 mul ab23 mul ab24 sb12'\n",
    "sp1 = convert_sp_forms(env.infix_to_sympy(env.prefix_to_infix(pre1.split(' '))), env.func_dict)\n",
    "\n",
    "pre2 = 'mul INT- 1 mul pow ab12 INT- 1 mul ab13 mul ab14 sb14'\n",
    "sp2 = convert_sp_forms(env.infix_to_sympy(env.prefix_to_infix(pre2.split(' '))), env.func_dict)"
   ]
  },
  {
   "cell_type": "code",
   "execution_count": 211,
   "id": "7e4a97fe",
   "metadata": {},
   "outputs": [
    {
     "data": {
      "text/latex": [
       "$\\displaystyle \\frac{\\langle 1 2 \\rangle \\langle 1 3 \\rangle^{2} \\langle 1 4 \\rangle \\left[ 1 2 \\right] - \\langle 1 2 \\rangle \\langle 1 4 \\rangle \\langle 2 3 \\rangle \\langle 2 4 \\rangle \\left[ 1 2 \\right] + \\langle 1 3 \\rangle^{3} \\langle 1 4 \\rangle \\left[ 1 3 \\right] + \\langle 1 3 \\rangle \\langle 2 3 \\rangle \\langle 2 4 \\rangle^{2} \\left[ 2 3 \\right] - \\langle 1 4 \\rangle \\langle 2 3 \\rangle^{2} \\langle 2 4 \\rangle \\left[ 2 3 \\right]}{\\langle 1 2 \\rangle \\langle 1 3 \\rangle \\langle 1 4 \\rangle}$"
      ],
      "text/plain": [
       "(ab(1, 2)*ab(1, 3)**2*ab(1, 4)*sb(1, 2) - ab(1, 2)*ab(1, 4)*ab(2, 3)*ab(2, 4)*sb(1, 2) + ab(1, 3)**3*ab(1, 4)*sb(1, 3) + ab(1, 3)*ab(2, 3)*ab(2, 4)**2*sb(2, 3) - ab(1, 4)*ab(2, 3)**2*ab(2, 4)*sb(2, 3))/(ab(1, 2)*ab(1, 3)*ab(1, 4))"
      ]
     },
     "execution_count": 211,
     "metadata": {},
     "output_type": "execute_result"
    }
   ],
   "source": [
    "sp1"
   ]
  },
  {
   "cell_type": "code",
   "execution_count": 212,
   "id": "1e2294aa",
   "metadata": {},
   "outputs": [
    {
     "data": {
      "text/latex": [
       "$\\displaystyle - \\frac{\\langle 1 3 \\rangle \\langle 1 4 \\rangle \\left[ 1 4 \\right]}{\\langle 1 2 \\rangle}$"
      ],
      "text/plain": [
       "-ab(1, 3)*ab(1, 4)*sb(1, 4)/ab(1, 2)"
      ]
     },
     "execution_count": 212,
     "metadata": {},
     "output_type": "execute_result"
    }
   ],
   "source": [
    "sp2"
   ]
  }
 ],
 "metadata": {
  "kernelspec": {
   "display_name": "Python 3 (ipykernel)",
   "language": "python",
   "name": "python3"
  },
  "language_info": {
   "codemirror_mode": {
    "name": "ipython",
    "version": 3
   },
   "file_extension": ".py",
   "mimetype": "text/x-python",
   "name": "python",
   "nbconvert_exporter": "python",
   "pygments_lexer": "ipython3",
   "version": "3.9.13"
  }
 },
 "nbformat": 4,
 "nbformat_minor": 5
}
